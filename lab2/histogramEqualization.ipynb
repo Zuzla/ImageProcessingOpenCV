{
 "cells": [
  {
   "cell_type": "code",
   "execution_count": 1,
   "metadata": {},
   "outputs": [],
   "source": [
    "import numpy as np\n",
    "import cv2 as cv\n",
    "import matplotlib.pyplot as plt"
   ]
  },
  {
   "cell_type": "code",
   "execution_count": 2,
   "metadata": {},
   "outputs": [],
   "source": [
    "image = cv.imread('../images/lenna_bad.png')"
   ]
  },
  {
   "cell_type": "code",
   "execution_count": 5,
   "metadata": {},
   "outputs": [
    {
     "name": "stderr",
     "output_type": "stream",
     "text": [
      "/tmp/ipykernel_16114/2393119034.py:16: DeprecationWarning: Conversion of an array with ndim > 0 to a scalar is deprecated, and will error in future. Ensure you extract a single element from your array before performing this operation. (Deprecated NumPy 1.25.)\n",
      "  lut[i]=255 * (dividend /divider)\n"
     ]
    },
    {
     "ename": "ValueError",
     "evalue": "cannot reshape array of size 262144 into shape (1,255)",
     "output_type": "error",
     "traceback": [
      "\u001b[0;31m---------------------------------------------------------------------------\u001b[0m",
      "\u001b[0;31mValueError\u001b[0m                                Traceback (most recent call last)",
      "\u001b[1;32m/home/ilia/Documents/OpenCVImageProcessing/lab2/histogramEqualization.ipynb Cell 3\u001b[0m line \u001b[0;36m2\n\u001b[1;32m     <a href='vscode-notebook-cell:/home/ilia/Documents/OpenCVImageProcessing/lab2/histogramEqualization.ipynb#W2sZmlsZQ%3D%3D?line=24'>25</a>\u001b[0m         new_image[:,:,x] \u001b[39m=\u001b[39m histogramEqualization(hist, img[:,:,x]\u001b[39m.\u001b[39mcopy())\n\u001b[1;32m     <a href='vscode-notebook-cell:/home/ilia/Documents/OpenCVImageProcessing/lab2/histogramEqualization.ipynb#W2sZmlsZQ%3D%3D?line=26'>27</a>\u001b[0m     \u001b[39mreturn\u001b[39;00m new_image\n\u001b[0;32m---> <a href='vscode-notebook-cell:/home/ilia/Documents/OpenCVImageProcessing/lab2/histogramEqualization.ipynb#W2sZmlsZQ%3D%3D?line=28'>29</a>\u001b[0m new_image \u001b[39m=\u001b[39m AdpativeHistogramEqualization(image\u001b[39m.\u001b[39;49mcopy())\n\u001b[1;32m     <a href='vscode-notebook-cell:/home/ilia/Documents/OpenCVImageProcessing/lab2/histogramEqualization.ipynb#W2sZmlsZQ%3D%3D?line=30'>31</a>\u001b[0m gs \u001b[39m=\u001b[39m plt\u001b[39m.\u001b[39mGridSpec(\u001b[39m2\u001b[39m, \u001b[39m2\u001b[39m)\n\u001b[1;32m     <a href='vscode-notebook-cell:/home/ilia/Documents/OpenCVImageProcessing/lab2/histogramEqualization.ipynb#W2sZmlsZQ%3D%3D?line=31'>32</a>\u001b[0m plt\u001b[39m.\u001b[39mfigure(figsize\u001b[39m=\u001b[39m(\u001b[39m10\u001b[39m, \u001b[39m8\u001b[39m))\n",
      "\u001b[1;32m/home/ilia/Documents/OpenCVImageProcessing/lab2/histogramEqualization.ipynb Cell 3\u001b[0m line \u001b[0;36m2\n\u001b[1;32m     <a href='vscode-notebook-cell:/home/ilia/Documents/OpenCVImageProcessing/lab2/histogramEqualization.ipynb#W2sZmlsZQ%3D%3D?line=22'>23</a>\u001b[0m \u001b[39mfor\u001b[39;00m x \u001b[39min\u001b[39;00m \u001b[39mrange\u001b[39m(\u001b[39m0\u001b[39m, \u001b[39m3\u001b[39m):          \n\u001b[1;32m     <a href='vscode-notebook-cell:/home/ilia/Documents/OpenCVImageProcessing/lab2/histogramEqualization.ipynb#W2sZmlsZQ%3D%3D?line=23'>24</a>\u001b[0m     hist \u001b[39m=\u001b[39m calculateHistogram(img\u001b[39m.\u001b[39mcopy(), x)\n\u001b[0;32m---> <a href='vscode-notebook-cell:/home/ilia/Documents/OpenCVImageProcessing/lab2/histogramEqualization.ipynb#W2sZmlsZQ%3D%3D?line=24'>25</a>\u001b[0m     new_image[:,:,x] \u001b[39m=\u001b[39m histogramEqualization(hist, img[:,:,x]\u001b[39m.\u001b[39;49mcopy())\n\u001b[1;32m     <a href='vscode-notebook-cell:/home/ilia/Documents/OpenCVImageProcessing/lab2/histogramEqualization.ipynb#W2sZmlsZQ%3D%3D?line=26'>27</a>\u001b[0m \u001b[39mreturn\u001b[39;00m new_image\n",
      "\u001b[1;32m/home/ilia/Documents/OpenCVImageProcessing/lab2/histogramEqualization.ipynb Cell 3\u001b[0m line \u001b[0;36m1\n\u001b[1;32m     <a href='vscode-notebook-cell:/home/ilia/Documents/OpenCVImageProcessing/lab2/histogramEqualization.ipynb#W2sZmlsZQ%3D%3D?line=15'>16</a>\u001b[0m     lut[i]\u001b[39m=\u001b[39m\u001b[39m255\u001b[39m \u001b[39m*\u001b[39m (dividend \u001b[39m/\u001b[39mdivider)\n\u001b[1;32m     <a href='vscode-notebook-cell:/home/ilia/Documents/OpenCVImageProcessing/lab2/histogramEqualization.ipynb#W2sZmlsZQ%3D%3D?line=16'>17</a>\u001b[0m     i\u001b[39m+\u001b[39m\u001b[39m=\u001b[39m\u001b[39m1\u001b[39m\n\u001b[0;32m---> <a href='vscode-notebook-cell:/home/ilia/Documents/OpenCVImageProcessing/lab2/histogramEqualization.ipynb#W2sZmlsZQ%3D%3D?line=17'>18</a>\u001b[0m \u001b[39mreturn\u001b[39;00m lut\u001b[39m.\u001b[39;49mreshape(\u001b[39m1\u001b[39;49m, \u001b[39m255\u001b[39;49m)\n",
      "\u001b[0;31mValueError\u001b[0m: cannot reshape array of size 262144 into shape (1,255)"
     ]
    }
   ],
   "source": [
    "# Адаптивная эквализация изображения\n",
    "def calculateHistogram(img, chanel):\n",
    "    hist = cv.calcHist([img], [chanel], None, [256],[0, 256])\n",
    "    return hist  \n",
    "\n",
    "\n",
    "def histogramEqualization(histogram, img):\n",
    "    array = img.reshape(-1)\n",
    "    lut = np.empty(array.shape[0], np.uint8)\n",
    "    i = 0\n",
    "    divider = sum(histogram)\n",
    "    for element in array:\n",
    "        dividend=0\n",
    "        for j in range(element):    \n",
    "              dividend+=histogram[j]\n",
    "        lut[i] = 255 * (dividend /divider)\n",
    "        i+=1\n",
    "    return lut.reshape(512, 512)   \n",
    "\n",
    "\n",
    "def AdpativeHistogramEqualization(img):\n",
    "    new_image = np.empty(np.shape(img), np.uint8) \n",
    "    for x in range(0, 3):          \n",
    "        hist = calculateHistogram(img.copy(), x)\n",
    "        new_image[:,:,x] = histogramEqualization(hist, img[:,:,x].copy())\n",
    "\n",
    "    return new_image\n",
    "\n",
    "new_image = AdpativeHistogramEqualization(image.copy())\n",
    "\n",
    "gs = plt.GridSpec(2, 2)\n",
    "plt.figure(figsize=(10, 8))\n",
    "plt.subplot(gs[0])\n",
    "plt.imshow(image)\n",
    "plt.subplot(gs[1])\n",
    "plt.imshow(new_image)\n",
    "plt.subplot(gs[2])\n",
    "plt.hist(image.reshape(-1), 256, [0,256])\n",
    "plt.subplot(gs[3])\n",
    "plt.hist(new_image.reshape(-1), 256, [0,256])\n",
    "plt.show()"
   ]
  }
 ],
 "metadata": {
  "kernelspec": {
   "display_name": "Python 3",
   "language": "python",
   "name": "python3"
  },
  "language_info": {
   "codemirror_mode": {
    "name": "ipython",
    "version": 3
   },
   "file_extension": ".py",
   "mimetype": "text/x-python",
   "name": "python",
   "nbconvert_exporter": "python",
   "pygments_lexer": "ipython3",
   "version": "3.9.7"
  },
  "orig_nbformat": 4
 },
 "nbformat": 4,
 "nbformat_minor": 2
}
