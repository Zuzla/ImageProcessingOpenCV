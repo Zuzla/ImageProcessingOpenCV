{
 "cells": [
  {
   "cell_type": "code",
   "execution_count": 67,
   "metadata": {},
   "outputs": [],
   "source": [
    "import numpy as np"
   ]
  },
  {
   "cell_type": "code",
   "execution_count": 68,
   "metadata": {},
   "outputs": [],
   "source": [
    "# Задание 1. Добавьте примеры использования этих функций самостоятельно. \n",
    "# К векторам также возможно применение функций: \n",
    "    # округления: np.floor(), np.ceil(), np.round(); \n",
    "    # статистики: np.max(), np.min(), np.sum(), np.mean(), np.std() и др.; \n",
    "    # сортировки: np.sort(); \n",
    "    # поиска: np.where(); \n",
    "    # сравнения вещественных чисел: np.allclose(), np.isclose() "
   ]
  },
  {
   "cell_type": "code",
   "execution_count": 69,
   "metadata": {},
   "outputs": [
    {
     "name": "stdout",
     "output_type": "stream",
     "text": [
      "[[5.00006562 1.70176426 7.2248025 ]\n",
      " [6.4847105  6.03586283 6.50122776]\n",
      " [8.75100188 2.30048382 1.1276323 ]]\n",
      "[[6.4733875  2.70914274 4.06130001]\n",
      " [7.51156801 5.34362365 6.02768866]\n",
      " [7.30091989 3.41814685 5.50104143]]\n"
     ]
    }
   ],
   "source": [
    "vec_1 = np.random.uniform(0,10,(3, 3))\n",
    "vec_2 = np.random.uniform(0,10,(3, 3))\n",
    "print(vec_1)\n",
    "print(vec_2)"
   ]
  },
  {
   "cell_type": "code",
   "execution_count": 70,
   "metadata": {},
   "outputs": [
    {
     "name": "stdout",
     "output_type": "stream",
     "text": [
      "np.floor = \n",
      " [[5. 1. 7.]\n",
      " [6. 6. 6.]\n",
      " [8. 2. 1.]]\n",
      "np.ceil = \n",
      " [[6. 2. 8.]\n",
      " [7. 7. 7.]\n",
      " [9. 3. 2.]]\n",
      "np.round = \n",
      " [[5. 2. 7.]\n",
      " [6. 6. 7.]\n",
      " [9. 2. 1.]]\n"
     ]
    }
   ],
   "source": [
    "print(\"np.floor = \\n\", np.floor(vec_1))\n",
    "print(\"np.ceil = \\n\", np.ceil(vec_1))\n",
    "print(\"np.round = \\n\", np.round(vec_1))"
   ]
  },
  {
   "cell_type": "code",
   "execution_count": 71,
   "metadata": {},
   "outputs": [
    {
     "name": "stdout",
     "output_type": "stream",
     "text": [
      "np.max =  8.751001883376517\n",
      "np.min =  1.127632302718925\n",
      "np.sum =  45.12755147051262\n",
      "np.mean =  5.014172385612514\n",
      "np.std =  2.532236464914438\n"
     ]
    }
   ],
   "source": [
    "print(\"np.max = \", np.max(vec_1))\n",
    "print(\"np.min = \",np.min(vec_1))\n",
    "print(\"np.sum = \",np.sum(vec_1))\n",
    "print(\"np.mean = \",np.mean(vec_1))\n",
    "print(\"np.std = \",np.std(vec_1))"
   ]
  },
  {
   "cell_type": "code",
   "execution_count": 72,
   "metadata": {},
   "outputs": [
    {
     "name": "stdout",
     "output_type": "stream",
     "text": [
      "np.sort =  [[1.70176426 5.00006562 7.2248025 ]\n",
      " [6.03586283 6.4847105  6.50122776]\n",
      " [1.1276323  2.30048382 8.75100188]]\n"
     ]
    }
   ],
   "source": [
    "print(\"np.sort = \", np.sort(vec_1))"
   ]
  },
  {
   "cell_type": "code",
   "execution_count": 73,
   "metadata": {},
   "outputs": [
    {
     "name": "stdout",
     "output_type": "stream",
     "text": [
      "np.where =  (array([0, 0, 0, 1, 1, 1, 2, 2, 2]), array([0, 1, 2, 0, 1, 2, 0, 1, 2]))\n"
     ]
    }
   ],
   "source": [
    "print(\"np.where = \", np.where(vec_1))"
   ]
  },
  {
   "cell_type": "code",
   "execution_count": 74,
   "metadata": {},
   "outputs": [
    {
     "name": "stdout",
     "output_type": "stream",
     "text": [
      "np.allclose =  False\n",
      "np.isclose =  [[False False False]\n",
      " [False False False]\n",
      " [False False False]]\n"
     ]
    }
   ],
   "source": [
    "print(\"np.allclose = \", np.allclose(vec_1, vec_2))\n",
    "print(\"np.isclose = \", np.isclose(vec_1, vec_2))"
   ]
  },
  {
   "cell_type": "code",
   "execution_count": 75,
   "metadata": {},
   "outputs": [
    {
     "name": "stdout",
     "output_type": "stream",
     "text": [
      "[[6 0 1]\n",
      " [4 0 2]\n",
      " [3 8 6]]\n"
     ]
    }
   ],
   "source": [
    "matrix_1 = np.mat(np.random.randint (0,10,(3, 3)))\n",
    "print(matrix_1)"
   ]
  },
  {
   "cell_type": "code",
   "execution_count": 76,
   "metadata": {},
   "outputs": [
    {
     "name": "stdout",
     "output_type": "stream",
     "text": [
      "np.tile = \n",
      " [[6 0 1 6 0 1]\n",
      " [4 0 2 4 0 2]\n",
      " [3 8 6 3 8 6]]\n",
      "np.repeat = \n",
      " [[6 6 0 0 1 1 4 4 0 0 2 2 3 3 8 8 6 6]]\n"
     ]
    }
   ],
   "source": [
    "print(\"np.tile = \\n\", np.tile(matrix_1, 2))\n",
    "print(\"np.repeat = \\n\", np.repeat(matrix_1, 2))"
   ]
  },
  {
   "cell_type": "code",
   "execution_count": 77,
   "metadata": {},
   "outputs": [
    {
     "name": "stdout",
     "output_type": "stream",
     "text": [
      "np.delete = \n",
      " [[6 0 1]\n",
      " [3 8 6]]\n"
     ]
    }
   ],
   "source": [
    "print(\"np.delete = \\n\", np.delete(matrix_1, 1, 0))"
   ]
  },
  {
   "cell_type": "code",
   "execution_count": 78,
   "metadata": {},
   "outputs": [
    {
     "name": "stdout",
     "output_type": "stream",
     "text": [
      "[[2 8 6]\n",
      " [2 6 1]\n",
      " [9 2 8]]\n",
      "np.insert = \n",
      " [[2 6 4 3 8 6]\n",
      " [2 0 0 8 6 1]\n",
      " [9 1 2 6 2 8]]\n"
     ]
    }
   ],
   "source": [
    "matrix_2 = np.mat(np.random.randint (0,10,(3, 3)))\n",
    "print(matrix_2)\n",
    "\n",
    "print(\"np.insert = \\n\", np.insert(matrix_2, 1, matrix_1, 1))"
   ]
  },
  {
   "cell_type": "code",
   "execution_count": 79,
   "metadata": {},
   "outputs": [
    {
     "name": "stdout",
     "output_type": "stream",
     "text": [
      "np.append = \n",
      " [[6 0 1]\n",
      " [4 0 2]\n",
      " [3 8 6]\n",
      " [2 8 6]\n",
      " [2 6 1]\n",
      " [9 2 8]]\n"
     ]
    }
   ],
   "source": [
    "print(\"np.append = \\n\", np.append(matrix_1, matrix_2, 0))"
   ]
  },
  {
   "cell_type": "code",
   "execution_count": 80,
   "metadata": {},
   "outputs": [
    {
     "name": "stdout",
     "output_type": "stream",
     "text": [
      "matrix_1 = \n",
      " [[6 0 1]\n",
      " [4 0 2]\n",
      " [3 8 6]]\n",
      "np.pad(constant) = \n",
      " [[0 0 0 0 0]\n",
      " [0 6 0 1 0]\n",
      " [0 4 0 2 0]\n",
      " [0 3 8 6 0]\n",
      " [0 0 0 0 0]]\n",
      "np.pad(edge) = \n",
      " [[6 6 0 1 1]\n",
      " [6 6 0 1 1]\n",
      " [4 4 0 2 2]\n",
      " [3 3 8 6 6]\n",
      " [3 3 8 6 6]]\n",
      "np.pad(linear_ramp) = \n",
      " [[0 0 0 0 0]\n",
      " [0 6 0 1 0]\n",
      " [0 4 0 2 0]\n",
      " [0 3 8 6 0]\n",
      " [0 0 0 0 0]]\n"
     ]
    }
   ],
   "source": [
    "print(\"matrix_1 = \\n\", matrix_1)\n",
    "print(\"np.pad(constant) = \\n\", np.pad(matrix_1, 1, 'constant'))\n",
    "print(\"np.pad(edge) = \\n\", np.pad(matrix_1, 1, 'edge'))\n",
    "print(\"np.pad(linear_ramp) = \\n\", np.pad(matrix_1, 1, 'linear_ramp'))"
   ]
  },
  {
   "cell_type": "code",
   "execution_count": 81,
   "metadata": {},
   "outputs": [
    {
     "name": "stdout",
     "output_type": "stream",
     "text": [
      "np.pad(maximum) = \n",
      " [[8 6 8 6 8]\n",
      " [6 6 0 1 6]\n",
      " [4 4 0 2 4]\n",
      " [8 3 8 6 8]\n",
      " [8 6 8 6 8]]\n",
      "np.pad(mean) = \n",
      " [[3 4 3 3 3]\n",
      " [2 6 0 1 2]\n",
      " [2 4 0 2 2]\n",
      " [6 3 8 6 6]\n",
      " [3 4 3 3 3]]\n",
      "np.pad(median) = \n",
      " [[2 4 0 2 2]\n",
      " [1 6 0 1 1]\n",
      " [2 4 0 2 2]\n",
      " [6 3 8 6 6]\n",
      " [2 4 0 2 2]]\n"
     ]
    }
   ],
   "source": [
    "print(\"np.pad(maximum) = \\n\", np.pad(matrix_1, 1, 'maximum'))\n",
    "print(\"np.pad(mean) = \\n\", np.pad(matrix_1, 1, 'mean'))\n",
    "print(\"np.pad(median) = \\n\", np.pad(matrix_1, 1, 'median'))"
   ]
  },
  {
   "cell_type": "code",
   "execution_count": 82,
   "metadata": {},
   "outputs": [
    {
     "name": "stdout",
     "output_type": "stream",
     "text": [
      "np.pad(reflect) = \n",
      " [[0 4 0 2 0]\n",
      " [0 6 0 1 0]\n",
      " [0 4 0 2 0]\n",
      " [8 3 8 6 8]\n",
      " [0 4 0 2 0]]\n",
      "np.pad(wrap) = \n",
      " [[6 3 8 6 3]\n",
      " [1 6 0 1 6]\n",
      " [2 4 0 2 4]\n",
      " [6 3 8 6 3]\n",
      " [1 6 0 1 6]]\n",
      "np.pad(symmetric) = \n",
      " [[6 6 0 1 1]\n",
      " [6 6 0 1 1]\n",
      " [4 4 0 2 2]\n",
      " [3 3 8 6 6]\n",
      " [3 3 8 6 6]]\n"
     ]
    }
   ],
   "source": [
    "print(\"np.pad(reflect) = \\n\", np.pad(matrix_1, 1, 'reflect'))\n",
    "print(\"np.pad(wrap) = \\n\", np.pad(matrix_1, 1, 'wrap'))\n",
    "print(\"np.pad(symmetric) = \\n\", np.pad(matrix_1, 1, 'symmetric'))"
   ]
  }
 ],
 "metadata": {
  "kernelspec": {
   "display_name": "Python 3",
   "language": "python",
   "name": "python3"
  },
  "language_info": {
   "codemirror_mode": {
    "name": "ipython",
    "version": 3
   },
   "file_extension": ".py",
   "mimetype": "text/x-python",
   "name": "python",
   "nbconvert_exporter": "python",
   "pygments_lexer": "ipython3",
   "version": "3.10.12"
  },
  "orig_nbformat": 4
 },
 "nbformat": 4,
 "nbformat_minor": 2
}
