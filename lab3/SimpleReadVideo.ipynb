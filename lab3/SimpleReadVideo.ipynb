{
 "cells": [
  {
   "cell_type": "code",
   "execution_count": 25,
   "metadata": {},
   "outputs": [],
   "source": [
    "import cv2 as cv\n",
    "import numpy as np"
   ]
  },
  {
   "cell_type": "code",
   "execution_count": null,
   "metadata": {},
   "outputs": [],
   "source": []
  },
  {
   "cell_type": "code",
   "execution_count": 26,
   "metadata": {},
   "outputs": [],
   "source": [
    "capture = cv.VideoCapture('../images/vtest.mp4')\n",
    "if not capture.isOpened():\n",
    "    print('Error opening video stream or file')\n",
    "\n",
    "while (capture.isOpened()):\n",
    "    ret, frame = capture.read()\n",
    "\n",
    "    if frame is not None:\n",
    "\n",
    "        # Здесь размещаем свой код обработки кадров.\n",
    "\n",
    "        # Display the resulting frame\n",
    "        cv.imshow('Frame', frame)\n",
    "        # Нажмите Enter, Esc или пробел для завершения видео.\n",
    "        if cv.waitKey(25) & 0xFF in [27, 32, 13]:\n",
    "            break\n",
    "\n",
    "    # Break the loop\n",
    "    else:\n",
    "        break\n",
    "\n",
    "capture.release()\n",
    "# Закрываем окно\n",
    "cv.destroyAllWindows()"
   ]
  }
 ],
 "metadata": {
  "kernelspec": {
   "display_name": "Python 3",
   "language": "python",
   "name": "python3"
  },
  "language_info": {
   "codemirror_mode": {
    "name": "ipython",
    "version": 3
   },
   "file_extension": ".py",
   "mimetype": "text/x-python",
   "name": "python",
   "nbconvert_exporter": "python",
   "pygments_lexer": "ipython3",
   "version": "3.9.7"
  }
 },
 "nbformat": 4,
 "nbformat_minor": 2
}
