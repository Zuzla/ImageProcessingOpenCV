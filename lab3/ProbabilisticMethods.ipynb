{
 "cells": [
  {
   "cell_type": "code",
   "execution_count": 1,
   "metadata": {},
   "outputs": [],
   "source": [
    "import cv2 as cv\n",
    "import numpy as np"
   ]
  },
  {
   "cell_type": "markdown",
   "metadata": {},
   "source": [
    "MOG2    \n",
    "Это алгоритм сегментации фона/переднего плана на основе смеси Гауссовских распределений. Он использует метод моделирования каждого фонового пикселя смесью K гауссовых распределений (K = от 3 до 5). Веса смеси представляют временные пропорции, которые эти цвета остаются на сцене. Вероятные цвета фона - это те, которые остаются более длинными и статичными.\n",
    "При кодировании нам нужно создать фоновый объект с помощью функции cv2.createBackgroundSubtractorMOG2(). Он имеет некоторые необязательные параметры, такие как:\n",
    " - history - длина истории;\n",
    " - varThreahold - порог;\n",
    " - включение алгоритма удаления теней и т. д. \n",
    "Затем внутри видеоцикла используйте метод backgroundsubtractor.apply() для получения маски переднего плана. Для получения изображения фона используется метод getBackgroundImage(). Подробнее про BackgroundSubtractorMOG можно посмотреть в документации"
   ]
  },
  {
   "cell_type": "markdown",
   "metadata": {},
   "source": [
    "KNN    \n",
    "K-ближайшие соседи - на основе алгоритма сегментации фона/переднего плана.\n",
    "Класс реализует метод машинного обучения K-ближайшие соседи для вычитания фона. Очень эффективно, если количество пикселей переднего плана низкое. KNN реализован в OpenCV в классе BackgroundSubtractorKNN Подробнее про BackgroundSubtractorMOG можно посмотреть в документации"
   ]
  },
  {
   "cell_type": "code",
   "execution_count": 5,
   "metadata": {},
   "outputs": [
    {
     "name": "stderr",
     "output_type": "stream",
     "text": [
      "qt.qpa.plugin: Could not find the Qt platform plugin \"wayland\" in \"/home/ilia/.pyenv/versions/3.9.7/lib/python3.9/site-packages/cv2/qt/plugins\"\n"
     ]
    },
    {
     "ename": "KeyboardInterrupt",
     "evalue": "",
     "output_type": "error",
     "traceback": [
      "\u001b[0;31m---------------------------------------------------------------------------\u001b[0m",
      "\u001b[0;31mKeyboardInterrupt\u001b[0m                         Traceback (most recent call last)",
      "\u001b[1;32m/home/ilia/Documents/OpenCVImageProcessing/lab3/ProbabilisticMethods.ipynb Cell 4\u001b[0m line \u001b[0;36m2\n\u001b[1;32m     <a href='vscode-notebook-cell:/home/ilia/Documents/OpenCVImageProcessing/lab3/ProbabilisticMethods.ipynb#W2sZmlsZQ%3D%3D?line=20'>21</a>\u001b[0m     cv\u001b[39m.\u001b[39mimshow(\u001b[39m'\u001b[39m\u001b[39mFrame\u001b[39m\u001b[39m'\u001b[39m, mask)\n\u001b[1;32m     <a href='vscode-notebook-cell:/home/ilia/Documents/OpenCVImageProcessing/lab3/ProbabilisticMethods.ipynb#W2sZmlsZQ%3D%3D?line=21'>22</a>\u001b[0m     \u001b[39m# Нажмите Enter, Esc или пробел для завершения видео.\u001b[39;00m\n\u001b[0;32m---> <a href='vscode-notebook-cell:/home/ilia/Documents/OpenCVImageProcessing/lab3/ProbabilisticMethods.ipynb#W2sZmlsZQ%3D%3D?line=22'>23</a>\u001b[0m     \u001b[39mif\u001b[39;00m cv\u001b[39m.\u001b[39;49mwaitKey(\u001b[39m25\u001b[39;49m) \u001b[39min\u001b[39;00m [\u001b[39m27\u001b[39m, \u001b[39m32\u001b[39m, \u001b[39m13\u001b[39m]:\n\u001b[1;32m     <a href='vscode-notebook-cell:/home/ilia/Documents/OpenCVImageProcessing/lab3/ProbabilisticMethods.ipynb#W2sZmlsZQ%3D%3D?line=23'>24</a>\u001b[0m         \u001b[39mbreak\u001b[39;00m\n\u001b[1;32m     <a href='vscode-notebook-cell:/home/ilia/Documents/OpenCVImageProcessing/lab3/ProbabilisticMethods.ipynb#W2sZmlsZQ%3D%3D?line=25'>26</a>\u001b[0m \u001b[39m# Break the loop\u001b[39;00m\n\u001b[1;32m     <a href='vscode-notebook-cell:/home/ilia/Documents/OpenCVImageProcessing/lab3/ProbabilisticMethods.ipynb#W2sZmlsZQ%3D%3D?line=26'>27</a>\u001b[0m \u001b[39melse\u001b[39;00m:\n",
      "\u001b[0;31mKeyboardInterrupt\u001b[0m: "
     ]
    },
    {
     "ename": "",
     "evalue": "",
     "output_type": "error",
     "traceback": [
      "\u001b[1;31mThe Kernel crashed while executing code in the the current cell or a previous cell. Please review the code in the cell(s) to identify a possible cause of the failure. Click <a href='https://aka.ms/vscodeJupyterKernelCrash'>here</a> for more info. View Jupyter <a href='command:jupyter.viewOutput'>log</a> for further details."
     ]
    }
   ],
   "source": [
    "capture = cv.VideoCapture('../images/vtest.mp4')\n",
    "\n",
    "if not capture.isOpened():\n",
    "    print('Error opening video stream or file')\n",
    "\n",
    "MOG_bs = cv.createBackgroundSubtractorMOG2(history=1000, varThreshold=16, detectShadows=True)\n",
    "KNN_bg = cv.createBackgroundSubtractorKNN()\n",
    "\n",
    "while (capture.isOpened()):\n",
    "    ret, frame = capture.read()\n",
    "    if frame is not None:\n",
    "        mog_mask = MOG_bs.apply(frame)\n",
    "        rgb_mog_mask = cv.cvtColor(mog_mask, cv.COLOR_GRAY2BGR)\n",
    "        knn_mask = KNN_bg.apply(frame)\n",
    "\n",
    "        # так можно получить изображение фона\n",
    "        bg = MOG_bs.getBackgroundImage()\n",
    "        mask = np.concatenate((rgb_mog_mask, bg), axis=1)\n",
    "\n",
    "        # Display the resulting frame\n",
    "        cv.imshow('Frame', mask)\n",
    "        # Нажмите Enter, Esc или пробел для завершения видео.\n",
    "        if cv.waitKey(25) in [27, 32, 13]:\n",
    "            break\n",
    "\n",
    "    # Break the loop\n",
    "    else:\n",
    "        break\n",
    "\n",
    "# Когда проигрывание завершено, освобождаем capture\n",
    "capture.release()\n",
    "# Закрываем окно\n",
    "cv.destroyAllWindows()"
   ]
  },
  {
   "cell_type": "code",
   "execution_count": null,
   "metadata": {},
   "outputs": [],
   "source": []
  }
 ],
 "metadata": {
  "kernelspec": {
   "display_name": "Python 3",
   "language": "python",
   "name": "python3"
  },
  "language_info": {
   "codemirror_mode": {
    "name": "ipython",
    "version": 3
   },
   "file_extension": ".py",
   "mimetype": "text/x-python",
   "name": "python",
   "nbconvert_exporter": "python",
   "pygments_lexer": "ipython3",
   "version": "3.9.7"
  }
 },
 "nbformat": 4,
 "nbformat_minor": 2
}
