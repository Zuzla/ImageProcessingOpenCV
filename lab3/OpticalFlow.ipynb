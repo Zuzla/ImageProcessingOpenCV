{
 "cells": [
  {
   "cell_type": "code",
   "execution_count": 2,
   "metadata": {},
   "outputs": [],
   "source": [
    "import cv2 as cv\n",
    "import numpy as np"
   ]
  },
  {
   "cell_type": "markdown",
   "metadata": {},
   "source": [
    "Оптический поток — это отображение (на визуальном графике или в виде математической модели) видимого движения объектов, поверхностей или краев сцены, получаемое в результате перемещения наблюдателя (глаз или камеры) относительно сцены.\n",
    "Методы оптического потока в применении к задаче выделения переднего плана, основаны на том, что для видеофрагмента, содержащие некоторые объекты в движении, можно вычислить направление и величину скорости движения в каждой точке кадра. Информация об оптическом потоке используется для пространственного сегментирования изображения на основе допущения, что группу расположенных близко друг к другу точек, движущихся с примерно одинаковыми скоростями, можно считать движущимся объектом. Также можно получить информацию о расположении, размерах и некоторых других параметрах таких областей.\n",
    "Оптический поток работает на нескольких предположениях:\n",
    " - Интенсивность пикселей объекта не изменяется между последовательными кадрами.\n",
    " - Соседние пиксели имеют аналогичное движение.\n",
    " \n",
    "OpenCV предоставляет несколько классов для вычисления оптического потока разными алгоритмами:    \n",
    " 1) OpticalFlowPCAFlow – предоставляющий реализацию алгоритма PCAFlow;    \n",
    " 2) DenseRLOFOpticalFlow – реализует алгоритм RLOF.    \n",
    " \n",
    "Подробнее про реализации оптического потока можно прочитать на сайте OpenCV"
   ]
  },
  {
   "cell_type": "code",
   "execution_count": 3,
   "metadata": {},
   "outputs": [
    {
     "name": "stderr",
     "output_type": "stream",
     "text": [
      "qt.qpa.plugin: Could not find the Qt platform plugin \"wayland\" in \"/home/ilia/.pyenv/versions/3.9.7/lib/python3.9/site-packages/cv2/qt/plugins\"\n",
      "Only C and default locale supported with the posix collation implementation\n",
      "Only C and default locale supported with the posix collation implementation\n",
      "Case insensitive sorting unsupported in the posix collation implementation\n",
      "Numeric mode unsupported in the posix collation implementation\n"
     ]
    }
   ],
   "source": [
    "capture = cv.VideoCapture('../images/vtest.mp4')\n",
    "\n",
    "if not capture.isOpened():\n",
    "    print('Error opening video stream or file')\n",
    "\n",
    "ret, bgrFrame = capture.read()\n",
    "grayFramePrevious = cv.cvtColor(bgrFrame, cv.COLOR_BGR2GRAY)\n",
    "hsvFlow = np.zeros_like(bgrFrame)\n",
    "hsvFlow[..., 1] = 255\n",
    "\n",
    "while (capture.isOpened()):\n",
    "    ret, bgrFrameCurrent = capture.read()\n",
    "    if bgrFrameCurrent is not None:\n",
    "\n",
    "        grayFrameCurrent = cv.cvtColor(bgrFrameCurrent, cv.COLOR_BGR2GRAY)\n",
    "        flow = cv.calcOpticalFlowFarneback(grayFrameCurrent, grayFramePrevious, None, 0.5, 3, 15, 3, 5, 1.2, 0)\n",
    "\n",
    "        mag, ang = cv.cartToPolar(flow[..., 0], flow[..., 1])\n",
    "        hsvFlow[..., 0] = ang*180/np.pi/2\n",
    "        hsvFlow[..., 2] = cv.normalize(mag, None, 0, 255, cv.NORM_MINMAX)\n",
    "        bgrFlow = cv.cvtColor(hsvFlow, cv.COLOR_HSV2BGR)\n",
    "\n",
    "        outFrame = np.concatenate((bgrFrameCurrent, bgrFlow), axis=1)\n",
    "\n",
    "        cv.imshow('Frame', outFrame)\n",
    "        # Нажмите Enter, Esc или пробел для завершения видео.\n",
    "        if cv.waitKey(1) in [27, 32, 13]:\n",
    "            break\n",
    "        grayFramePrevious = grayFrameCurrent\n",
    "    # Break the loop\n",
    "    else:\n",
    "        break\n",
    "\n",
    "# Когда проигрывание завершено, освобождаем capture\n",
    "capture.release()\n",
    "# Закрываем окно\n",
    "cv.destroyAllWindows()"
   ]
  }
 ],
 "metadata": {
  "kernelspec": {
   "display_name": "Python 3",
   "language": "python",
   "name": "python3"
  },
  "language_info": {
   "codemirror_mode": {
    "name": "ipython",
    "version": 3
   },
   "file_extension": ".py",
   "mimetype": "text/x-python",
   "name": "python",
   "nbconvert_exporter": "python",
   "pygments_lexer": "ipython3",
   "version": "3.9.7"
  }
 },
 "nbformat": 4,
 "nbformat_minor": 2
}
