{
 "cells": [
  {
   "cell_type": "code",
   "execution_count": null,
   "metadata": {},
   "outputs": [],
   "source": [
    "import cv2 as cv\n",
    "import numpy as np"
   ]
  },
  {
   "cell_type": "markdown",
   "metadata": {},
   "source": [
    "Методы временной разности - \n",
    "Данные методы позволяют отделить передний план от фона при помощи операции попиксельного вычитания двух или более последовательных кадров. Методы временной разности хорошо определяют динамические изменения сцены, но обычно не могут выделить целиком все однородные пиксели одного объекта, что приводит к фрагментированности блобов (чаще всего внутри них появляются пробелы). Кроме того, с помощью этих методов не удается обнаруживать остановивниеся объекты. Поэтому чаще всего методы временной разности используются совместно с другими методами (например, вероятностными), что позволяет достаточно устойчиво отделять передний план от фона. Существует несколько вариантов методов временной разности. Простейший из них заключается в следующем. Для каждого пикселя текущего кадра составляется его разность с соответствующим пикселем предыдущего кадра"
   ]
  },
  {
   "cell_type": "code",
   "execution_count": null,
   "metadata": {},
   "outputs": [],
   "source": [
    "threshold = 150\n",
    "\n",
    "capture = cv.VideoCapture('../images/vtest.mp4')\n",
    "\n",
    "if not capture.isOpened():\n",
    "    print('Error opening video stream or file')\n",
    "else:\n",
    "    ret, bgrFrame = capture.read()\n",
    "    grayFrame = cv.cvtColor(bgrFrame, cv.COLOR_BGR2GRAY)\n",
    "    grayFramePrevious = grayFrame\n",
    "\n",
    "while (capture.isOpened()):\n",
    "    ret, bgrFrame = capture.read()\n",
    "    if bgrFrame is not None:\n",
    "        grayFrame = cv.cvtColor(bgrFrame, cv.COLOR_BGR2GRAY)\n",
    "\n",
    "        mask = np.abs(grayFrame - grayFramePrevious) > threshold\n",
    "\n",
    "        #обновляем фон\n",
    "        bgrMask = cv.cvtColor(np.uint8(mask) * 255, cv.COLOR_GRAY2BGR)\n",
    "        outFrame = np.concatenate((bgrFrame, bgrMask), axis=1)\n",
    "\n",
    "        # Display the resulting frame\n",
    "        grayFramePrevious = grayFrame\n",
    "        cv.imshow('Frame', outFrame)\n",
    "        # Нажмите Enter, Esc или пробел для завершения видео.\n",
    "        if cv.waitKey(25) in [27, 32, 13]:\n",
    "            break\n",
    "\n",
    "    # Break the loop\n",
    "    else:\n",
    "        break\n",
    "\n",
    "# Когда проигрывание завершено, освобождаем capture\n",
    "capture.release()\n",
    "# Закрываем окно\n",
    "cv.destroyAllWindows()"
   ]
  }
 ],
 "metadata": {
  "kernelspec": {
   "display_name": "Python 3",
   "language": "python",
   "name": "python3"
  },
  "language_info": {
   "codemirror_mode": {
    "name": "ipython",
    "version": 3
   },
   "file_extension": ".py",
   "mimetype": "text/x-python",
   "name": "python",
   "nbconvert_exporter": "python",
   "pygments_lexer": "ipython3",
   "version": "3.9.7"
  }
 },
 "nbformat": 4,
 "nbformat_minor": 2
}
